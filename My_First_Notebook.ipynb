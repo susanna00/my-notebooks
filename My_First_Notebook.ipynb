{
  "nbformat": 4,
  "nbformat_minor": 0,
  "metadata": {
    "colab": {
      "name": "My First Notebook",
      "provenance": [],
      "authorship_tag": "ABX9TyOR2L6kQcFSljuga2Dr5nyV",
      "include_colab_link": true
    },
    "kernelspec": {
      "name": "python3",
      "display_name": "Python 3"
    }
  },
  "cells": [
    {
      "cell_type": "markdown",
      "metadata": {
        "id": "view-in-github",
        "colab_type": "text"
      },
      "source": [
        "<a href=\"https://colab.research.google.com/github/susanna00/my-notebooks/blob/main/My_First_Notebook.ipynb\" target=\"_parent\"><img src=\"https://colab.research.google.com/assets/colab-badge.svg\" alt=\"Open In Colab\"/></a>"
      ]
    },
    {
      "cell_type": "markdown",
      "metadata": {
        "id": "XtW0rJqFz0XC"
      },
      "source": [
        "# My First Notebook!\r\n",
        "\r\n",
        "This is a text cell. It uses the markdown language. The line above is a heading, starting with the # sign. Don't be confused that # means something different in .md and .py files.\r\n",
        "\r\n",
        "We can make links like [this](https://github.com/prof-rossetti/intro-to-python).\r\n",
        "\r\n",
        "And lists too:\r\n",
        "\r\n",
        "  + Item 1\r\n",
        "  + Item 2\r\n",
        "  + Item 3\r\n",
        "\r\n",
        "For more information about Markdown syntax, see the [Markdown Guide](https://guides.github.com/pdfs/markdown-cheatsheet-online.pdf)."
      ]
    },
    {
      "cell_type": "code",
      "metadata": {
        "colab": {
          "base_uri": "https://localhost:8080/"
        },
        "id": "P3ZSZtp1zKA6",
        "outputId": "5ad991b9-7919-4fd5-8cdd-b2287cb3ffa7"
      },
      "source": [
        "# This is some example python code\r\n",
        "# These lines starting with # are \"comments\"\r\n",
        "# Don't be confused that # means something different in .md files than .py files\r\n",
        "\r\n",
        "print(\"HELLO WORLD!\")\r\n",
        "\r\n",
        "x = 2 + 2\r\n",
        "print(x)"
      ],
      "execution_count": 2,
      "outputs": [
        {
          "output_type": "stream",
          "text": [
            "HELLO WORLD!\n",
            "4\n"
          ],
          "name": "stdout"
        }
      ]
    }
  ]
}